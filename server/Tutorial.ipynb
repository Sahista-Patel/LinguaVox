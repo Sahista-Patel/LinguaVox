{
 "cells": [
  {
   "cell_type": "markdown",
   "metadata": {},
   "source": [
    "Resources Used\n",
    "- wget.download('https://tensorflow-object-detection-api-tutorial.readthedocs.io/en/latest/_downloads/da4babe668a8afb093cc7776d7e630f3/generate_tfrecord.py')\n",
    "- Setup https://tensorflow-object-detection-api-tutorial.readthedocs.io/en/latest/install.html"
   ]
  },
  {
   "cell_type": "markdown",
   "metadata": {},
   "source": [
    "# 0. Setup Paths"
   ]
  },
  {
   "cell_type": "code",
   "execution_count": 7,
   "metadata": {},
   "outputs": [],
   "source": [
    "import tensorflow.compat.v1 as tf"
   ]
  },
  {
   "cell_type": "code",
   "execution_count": 8,
   "metadata": {},
   "outputs": [],
   "source": [
    "WORKSPACE_PATH = 'Tensorflow/workspace'\n",
    "SCRIPTS_PATH = 'Tensorflow/scripts'\n",
    "APIMODEL_PATH = 'Tensorflow/models'\n",
    "ANNOTATION_PATH = WORKSPACE_PATH+'/annotations'\n",
    "IMAGE_PATH = WORKSPACE_PATH+'/images'\n",
    "MODEL_PATH = WORKSPACE_PATH+'/models'\n",
    "PRETRAINED_MODEL_PATH = WORKSPACE_PATH+'/pre-trained-models'\n",
    "CONFIG_PATH = MODEL_PATH+'/my_ssd_mobnet/pipeline.config'\n",
    "CHECKPOINT_PATH = MODEL_PATH+'/my_ssd_mobnet/'"
   ]
  },
  {
   "cell_type": "markdown",
   "metadata": {},
   "source": [
    "# 1. Create Label Map"
   ]
  },
  {
   "cell_type": "code",
   "execution_count": 9,
   "metadata": {},
   "outputs": [],
   "source": [
    "labels = [{'name':'Again', 'id':1}, \n",
    "          {'name':'Hello', 'id':2},\n",
    "         {'name':'Help', 'id':3},\n",
    "         {'name':'More', 'id':4},\n",
    "         {'name':'No', 'id':5},\n",
    "         {'name':'Please', 'id':6},\n",
    "         {'name':'Thanks', 'id':7},\n",
    "         {'name':'Yes', 'id':8},\n",
    "         {'name':'You', 'id':9}]\n",
    "\n",
    "with open(ANNOTATION_PATH + '\\label_map.pbtxt', 'w') as f:\n",
    "    for label in labels:\n",
    "        f.write('item { \\n')\n",
    "        f.write('\\tname:\\'{}\\'\\n'.format(label['name']))\n",
    "        f.write('\\tid:{}\\n'.format(label['id']))\n",
    "        f.write('}\\n')"
   ]
  },
  {
   "cell_type": "code",
   "execution_count": 10,
   "metadata": {},
   "outputs": [
    {
     "name": "stdout",
     "output_type": "stream",
     "text": [
      "Requirement already satisfied: pip in d:\\anaconda3\\lib\\site-packages (21.3.1)Note: you may need to restart the kernel to use updated packages.\n",
      "\n"
     ]
    },
    {
     "name": "stderr",
     "output_type": "stream",
     "text": [
      "WARNING: Ignoring invalid distribution -atplotlib (d:\\anaconda3\\lib\\site-packages)\n",
      "WARNING: Ignoring invalid distribution -atplotlib (d:\\anaconda3\\lib\\site-packages)\n",
      "WARNING: Ignoring invalid distribution -atplotlib (d:\\anaconda3\\lib\\site-packages)\n",
      "WARNING: Ignoring invalid distribution -atplotlib (d:\\anaconda3\\lib\\site-packages)\n",
      "WARNING: Ignoring invalid distribution -atplotlib (d:\\anaconda3\\lib\\site-packages)\n"
     ]
    }
   ],
   "source": [
    "pip install --upgrade pip"
   ]
  },
  {
   "cell_type": "markdown",
   "metadata": {},
   "source": [
    "# 2. Create TF records"
   ]
  },
  {
   "cell_type": "code",
   "execution_count": 11,
   "metadata": {},
   "outputs": [
    {
     "name": "stdout",
     "output_type": "stream",
     "text": [
      "Requirement already satisfied: tensorflow-object-detection-api in d:\\anaconda3\\lib\\site-packages (0.1.1)\n",
      "Requirement already satisfied: tensorflow in d:\\anaconda3\\lib\\site-packages (from tensorflow-object-detection-api) (2.4.1)\n",
      "Requirement already satisfied: lxml in d:\\anaconda3\\lib\\site-packages (from tensorflow-object-detection-api) (4.6.3)\n",
      "Requirement already satisfied: Matplotlib>=2.1 in d:\\anaconda3\\lib\\site-packages (from tensorflow-object-detection-api) (3.4.3)\n",
      "Requirement already satisfied: jupyter in d:\\anaconda3\\lib\\site-packages (from tensorflow-object-detection-api) (1.0.0)\n",
      "Requirement already satisfied: wheel in d:\\anaconda3\\lib\\site-packages (from tensorflow-object-detection-api) (0.35.1)\n",
      "Requirement already satisfied: contextlib2 in d:\\anaconda3\\lib\\site-packages (from tensorflow-object-detection-api) (0.6.0.post1)\n",
      "Requirement already satisfied: Pillow>=1.0 in d:\\anaconda3\\lib\\site-packages (from tensorflow-object-detection-api) (8.0.1)\n",
      "Requirement already satisfied: twine in d:\\anaconda3\\lib\\site-packages (from tensorflow-object-detection-api) (3.4.2)\n",
      "Requirement already satisfied: Cython>=0.28.1 in d:\\anaconda3\\lib\\site-packages (from tensorflow-object-detection-api) (0.29.21)\n",
      "Requirement already satisfied: Protobuf in d:\\anaconda3\\lib\\site-packages (from tensorflow-object-detection-api) (3.15.6)\n",
      "Requirement already satisfied: cycler>=0.10 in d:\\anaconda3\\lib\\site-packages (from Matplotlib>=2.1->tensorflow-object-detection-api) (0.10.0)\n",
      "Requirement already satisfied: numpy>=1.16 in d:\\anaconda3\\lib\\site-packages (from Matplotlib>=2.1->tensorflow-object-detection-api) (1.19.2)\n",
      "Requirement already satisfied: pyparsing>=2.2.1 in d:\\anaconda3\\lib\\site-packages (from Matplotlib>=2.1->tensorflow-object-detection-api) (2.4.7)\n",
      "Requirement already satisfied: kiwisolver>=1.0.1 in d:\\anaconda3\\lib\\site-packages (from Matplotlib>=2.1->tensorflow-object-detection-api) (1.3.0)\n",
      "Requirement already satisfied: python-dateutil>=2.7 in d:\\anaconda3\\lib\\site-packages (from Matplotlib>=2.1->tensorflow-object-detection-api) (2.8.1)\n",
      "Requirement already satisfied: nbconvert in d:\\anaconda3\\lib\\site-packages (from jupyter->tensorflow-object-detection-api) (6.0.7)\n",
      "Requirement already satisfied: ipykernel in d:\\anaconda3\\lib\\site-packages (from jupyter->tensorflow-object-detection-api) (5.3.4)\n",
      "Requirement already satisfied: notebook in d:\\anaconda3\\lib\\site-packages (from jupyter->tensorflow-object-detection-api) (6.1.4)\n",
      "Requirement already satisfied: jupyter-console in d:\\anaconda3\\lib\\site-packages (from jupyter->tensorflow-object-detection-api) (6.2.0)\n",
      "Requirement already satisfied: qtconsole in d:\\anaconda3\\lib\\site-packages (from jupyter->tensorflow-object-detection-api) (4.7.7)\n",
      "Requirement already satisfied: ipywidgets in d:\\anaconda3\\lib\\site-packages (from jupyter->tensorflow-object-detection-api) (7.5.1)\n",
      "Requirement already satisfied: six>=1.9 in d:\\anaconda3\\lib\\site-packages (from Protobuf->tensorflow-object-detection-api) (1.15.0)\n",
      "Requirement already satisfied: typing-extensions~=3.7.4 in d:\\anaconda3\\lib\\site-packages (from tensorflow->tensorflow-object-detection-api) (3.7.4.3)\n",
      "Requirement already satisfied: tensorflow-estimator<2.5.0,>=2.4.0 in d:\\anaconda3\\lib\\site-packages (from tensorflow->tensorflow-object-detection-api) (2.4.0)\n",
      "Requirement already satisfied: grpcio~=1.32.0 in d:\\anaconda3\\lib\\site-packages (from tensorflow->tensorflow-object-detection-api) (1.32.0)\n",
      "Requirement already satisfied: wrapt~=1.12.1 in d:\\anaconda3\\lib\\site-packages (from tensorflow->tensorflow-object-detection-api) (1.12.1)\n",
      "Requirement already satisfied: flatbuffers~=1.12.0 in d:\\anaconda3\\lib\\site-packages (from tensorflow->tensorflow-object-detection-api) (1.12)\n",
      "Requirement already satisfied: termcolor~=1.1.0 in d:\\anaconda3\\lib\\site-packages (from tensorflow->tensorflow-object-detection-api) (1.1.0)\n",
      "Requirement already satisfied: google-pasta~=0.2 in d:\\anaconda3\\lib\\site-packages (from tensorflow->tensorflow-object-detection-api) (0.2.0)\n",
      "Requirement already satisfied: absl-py~=0.10 in d:\\anaconda3\\lib\\site-packages (from tensorflow->tensorflow-object-detection-api) (0.12.0)\n",
      "Requirement already satisfied: opt-einsum~=3.3.0 in d:\\anaconda3\\lib\\site-packages (from tensorflow->tensorflow-object-detection-api) (3.3.0)\n",
      "Requirement already satisfied: gast==0.3.3 in d:\\anaconda3\\lib\\site-packages (from tensorflow->tensorflow-object-detection-api) (0.3.3)\n",
      "Requirement already satisfied: tensorboard~=2.4 in d:\\anaconda3\\lib\\site-packages (from tensorflow->tensorflow-object-detection-api) (2.4.1)\n",
      "Requirement already satisfied: astunparse~=1.6.3 in d:\\anaconda3\\lib\\site-packages (from tensorflow->tensorflow-object-detection-api) (1.6.3)\n",
      "Requirement already satisfied: keras-preprocessing~=1.1.2 in d:\\anaconda3\\lib\\site-packages (from tensorflow->tensorflow-object-detection-api) (1.1.2)\n",
      "Requirement already satisfied: h5py~=2.10.0 in d:\\anaconda3\\lib\\site-packages (from tensorflow->tensorflow-object-detection-api) (2.10.0)\n",
      "Requirement already satisfied: pkginfo>=1.4.2 in d:\\anaconda3\\lib\\site-packages (from twine->tensorflow-object-detection-api) (1.6.1)\n",
      "Requirement already satisfied: importlib-metadata>=3.6 in d:\\anaconda3\\lib\\site-packages (from twine->tensorflow-object-detection-api) (4.8.1)\n",
      "Requirement already satisfied: tqdm>=4.14 in d:\\anaconda3\\lib\\site-packages (from twine->tensorflow-object-detection-api) (4.50.2)\n",
      "Requirement already satisfied: readme-renderer>=21.0 in d:\\anaconda3\\lib\\site-packages (from twine->tensorflow-object-detection-api) (30.0)\n",
      "Requirement already satisfied: requests>=2.20 in d:\\anaconda3\\lib\\site-packages (from twine->tensorflow-object-detection-api) (2.24.0)\n",
      "Requirement already satisfied: colorama>=0.4.3 in d:\\anaconda3\\lib\\site-packages (from twine->tensorflow-object-detection-api) (0.4.4)\n",
      "Requirement already satisfied: keyring>=15.1 in d:\\anaconda3\\lib\\site-packages (from twine->tensorflow-object-detection-api) (21.4.0)\n",
      "Requirement already satisfied: requests-toolbelt!=0.9.0,>=0.8.0 in d:\\anaconda3\\lib\\site-packages (from twine->tensorflow-object-detection-api) (0.9.1)\n",
      "Requirement already satisfied: rfc3986>=1.4.0 in d:\\anaconda3\\lib\\site-packages (from twine->tensorflow-object-detection-api) (1.5.0)\n",
      "Requirement already satisfied: zipp>=0.5 in d:\\anaconda3\\lib\\site-packages (from importlib-metadata>=3.6->twine->tensorflow-object-detection-api) (3.4.0)\n",
      "Requirement already satisfied: pywin32-ctypes!=0.1.0,!=0.1.1 in d:\\anaconda3\\lib\\site-packages (from keyring>=15.1->twine->tensorflow-object-detection-api) (0.2.0)\n",
      "Requirement already satisfied: bleach>=2.1.0 in d:\\anaconda3\\lib\\site-packages (from readme-renderer>=21.0->twine->tensorflow-object-detection-api) (3.2.1)\n",
      "Requirement already satisfied: Pygments>=2.5.1 in d:\\anaconda3\\lib\\site-packages (from readme-renderer>=21.0->twine->tensorflow-object-detection-api) (2.7.2)\n",
      "Requirement already satisfied: docutils>=0.13.1 in d:\\anaconda3\\lib\\site-packages (from readme-renderer>=21.0->twine->tensorflow-object-detection-api) (0.16)\n",
      "Requirement already satisfied: chardet<4,>=3.0.2 in d:\\anaconda3\\lib\\site-packages (from requests>=2.20->twine->tensorflow-object-detection-api) (3.0.4)\n",
      "Requirement already satisfied: certifi>=2017.4.17 in d:\\anaconda3\\lib\\site-packages (from requests>=2.20->twine->tensorflow-object-detection-api) (2020.6.20)\n",
      "Requirement already satisfied: urllib3!=1.25.0,!=1.25.1,<1.26,>=1.21.1 in d:\\anaconda3\\lib\\site-packages (from requests>=2.20->twine->tensorflow-object-detection-api) (1.25.11)\n",
      "Requirement already satisfied: idna<3,>=2.5 in d:\\anaconda3\\lib\\site-packages (from requests>=2.20->twine->tensorflow-object-detection-api) (2.10)\n",
      "Requirement already satisfied: tensorboard-plugin-wit>=1.6.0 in d:\\anaconda3\\lib\\site-packages (from tensorboard~=2.4->tensorflow->tensorflow-object-detection-api) (1.8.0)\n",
      "Requirement already satisfied: markdown>=2.6.8 in d:\\anaconda3\\lib\\site-packages (from tensorboard~=2.4->tensorflow->tensorflow-object-detection-api) (3.3.4)\n",
      "Requirement already satisfied: google-auth-oauthlib<0.5,>=0.4.1 in d:\\anaconda3\\lib\\site-packages (from tensorboard~=2.4->tensorflow->tensorflow-object-detection-api) (0.4.3)\n",
      "Requirement already satisfied: google-auth<2,>=1.6.3 in d:\\anaconda3\\lib\\site-packages (from tensorboard~=2.4->tensorflow->tensorflow-object-detection-api) (1.28.0)\n",
      "Requirement already satisfied: werkzeug>=0.11.15 in d:\\anaconda3\\lib\\site-packages (from tensorboard~=2.4->tensorflow->tensorflow-object-detection-api) (1.0.1)\n",
      "Requirement already satisfied: setuptools>=41.0.0 in d:\\anaconda3\\lib\\site-packages (from tensorboard~=2.4->tensorflow->tensorflow-object-detection-api) (50.3.1.post20201107)\n",
      "Requirement already satisfied: jupyter-client in d:\\anaconda3\\lib\\site-packages (from ipykernel->jupyter->tensorflow-object-detection-api) (6.1.7)\n",
      "Requirement already satisfied: tornado>=4.2 in d:\\anaconda3\\lib\\site-packages (from ipykernel->jupyter->tensorflow-object-detection-api) (6.0.4)\n",
      "Requirement already satisfied: ipython>=5.0.0 in d:\\anaconda3\\lib\\site-packages (from ipykernel->jupyter->tensorflow-object-detection-api) (7.19.0)\n",
      "Requirement already satisfied: traitlets>=4.1.0 in d:\\anaconda3\\lib\\site-packages (from ipykernel->jupyter->tensorflow-object-detection-api) (5.0.5)\n",
      "Requirement already satisfied: nbformat>=4.2.0 in d:\\anaconda3\\lib\\site-packages (from ipywidgets->jupyter->tensorflow-object-detection-api) (5.0.8)\n",
      "Requirement already satisfied: widgetsnbextension~=3.5.0 in d:\\anaconda3\\lib\\site-packages (from ipywidgets->jupyter->tensorflow-object-detection-api) (3.5.1)\n",
      "Requirement already satisfied: prompt-toolkit!=3.0.0,!=3.0.1,<3.1.0,>=2.0.0 in d:\\anaconda3\\lib\\site-packages (from jupyter-console->jupyter->tensorflow-object-detection-api) (3.0.8)\n",
      "Requirement already satisfied: mistune<2,>=0.8.1 in d:\\anaconda3\\lib\\site-packages (from nbconvert->jupyter->tensorflow-object-detection-api) (0.8.4)\n",
      "Requirement already satisfied: defusedxml in d:\\anaconda3\\lib\\site-packages (from nbconvert->jupyter->tensorflow-object-detection-api) (0.6.0)\n",
      "Requirement already satisfied: testpath in d:\\anaconda3\\lib\\site-packages (from nbconvert->jupyter->tensorflow-object-detection-api) (0.4.4)\n",
      "Requirement already satisfied: nbclient<0.6.0,>=0.5.0 in d:\\anaconda3\\lib\\site-packages (from nbconvert->jupyter->tensorflow-object-detection-api) (0.5.1)\n",
      "Requirement already satisfied: jupyter-core in d:\\anaconda3\\lib\\site-packages (from nbconvert->jupyter->tensorflow-object-detection-api) (4.6.3)\n",
      "Requirement already satisfied: pandocfilters>=1.4.1 in d:\\anaconda3\\lib\\site-packages (from nbconvert->jupyter->tensorflow-object-detection-api) (1.4.3)\n",
      "Requirement already satisfied: entrypoints>=0.2.2 in d:\\anaconda3\\lib\\site-packages (from nbconvert->jupyter->tensorflow-object-detection-api) (0.3)\n",
      "Requirement already satisfied: jinja2>=2.4 in d:\\anaconda3\\lib\\site-packages (from nbconvert->jupyter->tensorflow-object-detection-api) (2.11.2)\n",
      "Requirement already satisfied: jupyterlab-pygments in d:\\anaconda3\\lib\\site-packages (from nbconvert->jupyter->tensorflow-object-detection-api) (0.1.2)\n",
      "Requirement already satisfied: pyzmq>=17 in d:\\anaconda3\\lib\\site-packages (from notebook->jupyter->tensorflow-object-detection-api) (19.0.2)\n",
      "Requirement already satisfied: Send2Trash in d:\\anaconda3\\lib\\site-packages (from notebook->jupyter->tensorflow-object-detection-api) (1.5.0)\n",
      "Requirement already satisfied: terminado>=0.8.3 in d:\\anaconda3\\lib\\site-packages (from notebook->jupyter->tensorflow-object-detection-api) (0.9.1)\n",
      "Requirement already satisfied: ipython-genutils in d:\\anaconda3\\lib\\site-packages (from notebook->jupyter->tensorflow-object-detection-api) (0.2.0)\n",
      "Requirement already satisfied: prometheus-client in d:\\anaconda3\\lib\\site-packages (from notebook->jupyter->tensorflow-object-detection-api) (0.8.0)\n",
      "Requirement already satisfied: argon2-cffi in d:\\anaconda3\\lib\\site-packages (from notebook->jupyter->tensorflow-object-detection-api) (20.1.0)\n",
      "Requirement already satisfied: qtpy in d:\\anaconda3\\lib\\site-packages (from qtconsole->jupyter->tensorflow-object-detection-api) (1.9.0)\n",
      "Requirement already satisfied: webencodings in d:\\anaconda3\\lib\\site-packages (from bleach>=2.1.0->readme-renderer>=21.0->twine->tensorflow-object-detection-api) (0.5.1)\n",
      "Requirement already satisfied: packaging in d:\\anaconda3\\lib\\site-packages (from bleach>=2.1.0->readme-renderer>=21.0->twine->tensorflow-object-detection-api) (20.4)\n",
      "Requirement already satisfied: cachetools<5.0,>=2.0.0 in d:\\anaconda3\\lib\\site-packages (from google-auth<2,>=1.6.3->tensorboard~=2.4->tensorflow->tensorflow-object-detection-api) (4.2.1)\n",
      "Requirement already satisfied: rsa<5,>=3.1.4 in d:\\anaconda3\\lib\\site-packages (from google-auth<2,>=1.6.3->tensorboard~=2.4->tensorflow->tensorflow-object-detection-api) (4.7.2)\n",
      "Requirement already satisfied: pyasn1-modules>=0.2.1 in d:\\anaconda3\\lib\\site-packages (from google-auth<2,>=1.6.3->tensorboard~=2.4->tensorflow->tensorflow-object-detection-api) (0.2.8)\n",
      "Requirement already satisfied: requests-oauthlib>=0.7.0 in d:\\anaconda3\\lib\\site-packages (from google-auth-oauthlib<0.5,>=0.4.1->tensorboard~=2.4->tensorflow->tensorflow-object-detection-api) (1.3.0)\n",
      "Requirement already satisfied: jedi>=0.10 in d:\\anaconda3\\lib\\site-packages (from ipython>=5.0.0->ipykernel->jupyter->tensorflow-object-detection-api) (0.17.1)\n",
      "Requirement already satisfied: backcall in d:\\anaconda3\\lib\\site-packages (from ipython>=5.0.0->ipykernel->jupyter->tensorflow-object-detection-api) (0.2.0)\n",
      "Requirement already satisfied: decorator in d:\\anaconda3\\lib\\site-packages (from ipython>=5.0.0->ipykernel->jupyter->tensorflow-object-detection-api) (4.4.2)\n",
      "Requirement already satisfied: pickleshare in d:\\anaconda3\\lib\\site-packages (from ipython>=5.0.0->ipykernel->jupyter->tensorflow-object-detection-api) (0.7.5)\n",
      "Requirement already satisfied: MarkupSafe>=0.23 in d:\\anaconda3\\lib\\site-packages (from jinja2>=2.4->nbconvert->jupyter->tensorflow-object-detection-api) (1.1.1)\n",
      "Requirement already satisfied: pywin32>=1.0 in d:\\anaconda3\\lib\\site-packages (from jupyter-core->nbconvert->jupyter->tensorflow-object-detection-api) (227)\n",
      "Requirement already satisfied: async-generator in d:\\anaconda3\\lib\\site-packages (from nbclient<0.6.0,>=0.5.0->nbconvert->jupyter->tensorflow-object-detection-api) (1.10)\n",
      "Requirement already satisfied: nest-asyncio in d:\\anaconda3\\lib\\site-packages (from nbclient<0.6.0,>=0.5.0->nbconvert->jupyter->tensorflow-object-detection-api) (1.4.2)\n",
      "Requirement already satisfied: jsonschema!=2.5.0,>=2.4 in d:\\anaconda3\\lib\\site-packages (from nbformat>=4.2.0->ipywidgets->jupyter->tensorflow-object-detection-api) (3.2.0)\n",
      "Requirement already satisfied: wcwidth in d:\\anaconda3\\lib\\site-packages (from prompt-toolkit!=3.0.0,!=3.0.1,<3.1.0,>=2.0.0->jupyter-console->jupyter->tensorflow-object-detection-api) (0.2.5)\n",
      "Requirement already satisfied: pywinpty>=0.5 in d:\\anaconda3\\lib\\site-packages (from terminado>=0.8.3->notebook->jupyter->tensorflow-object-detection-api) (0.5.7)\n",
      "Requirement already satisfied: cffi>=1.0.0 in d:\\anaconda3\\lib\\site-packages (from argon2-cffi->notebook->jupyter->tensorflow-object-detection-api) (1.14.3)\n",
      "Requirement already satisfied: pycparser in d:\\anaconda3\\lib\\site-packages (from cffi>=1.0.0->argon2-cffi->notebook->jupyter->tensorflow-object-detection-api) (2.20)\n",
      "Requirement already satisfied: parso<0.8.0,>=0.7.0 in d:\\anaconda3\\lib\\site-packages (from jedi>=0.10->ipython>=5.0.0->ipykernel->jupyter->tensorflow-object-detection-api) (0.7.0)\n",
      "Requirement already satisfied: pyrsistent>=0.14.0 in d:\\anaconda3\\lib\\site-packages (from jsonschema!=2.5.0,>=2.4->nbformat>=4.2.0->ipywidgets->jupyter->tensorflow-object-detection-api) (0.17.3)\n",
      "Requirement already satisfied: attrs>=17.4.0 in d:\\anaconda3\\lib\\site-packages (from jsonschema!=2.5.0,>=2.4->nbformat>=4.2.0->ipywidgets->jupyter->tensorflow-object-detection-api) (20.3.0)\n",
      "Requirement already satisfied: pyasn1<0.5.0,>=0.4.6 in d:\\anaconda3\\lib\\site-packages (from pyasn1-modules>=0.2.1->google-auth<2,>=1.6.3->tensorboard~=2.4->tensorflow->tensorflow-object-detection-api) (0.4.8)\n",
      "Requirement already satisfied: oauthlib>=3.0.0 in d:\\anaconda3\\lib\\site-packages (from requests-oauthlib>=0.7.0->google-auth-oauthlib<0.5,>=0.4.1->tensorboard~=2.4->tensorflow->tensorflow-object-detection-api) (3.1.0)\n",
      "Note: you may need to restart the kernel to use updated packages.\n"
     ]
    },
    {
     "name": "stderr",
     "output_type": "stream",
     "text": [
      "WARNING: Ignoring invalid distribution -atplotlib (d:\\anaconda3\\lib\\site-packages)\n",
      "WARNING: Ignoring invalid distribution -atplotlib (d:\\anaconda3\\lib\\site-packages)\n",
      "WARNING: Ignoring invalid distribution -atplotlib (d:\\anaconda3\\lib\\site-packages)\n",
      "WARNING: Ignoring invalid distribution -atplotlib (d:\\anaconda3\\lib\\site-packages)\n",
      "WARNING: Ignoring invalid distribution -atplotlib (d:\\anaconda3\\lib\\site-packages)\n"
     ]
    }
   ],
   "source": [
    "pip install tensorflow-object-detection-api"
   ]
  },
  {
   "cell_type": "code",
   "execution_count": 12,
   "metadata": {},
   "outputs": [
    {
     "name": "stderr",
     "output_type": "stream",
     "text": [
      "Traceback (most recent call last):\n",
      "  File \"Tensorflow/scripts/generate_tfrecord.py\", line 61, in <module>\n",
      "    label_map = label_map_util.load_labelmap(args.labels_path)\n",
      "  File \"D:\\anaconda3\\lib\\site-packages\\object_detection\\utils\\label_map_util.py\", line 132, in load_labelmap\n",
      "    with tf.gfile.GFile(path, 'r') as fid:\n",
      "AttributeError: module 'tensorflow' has no attribute 'gfile'\n",
      "Traceback (most recent call last):\n",
      "  File \"Tensorflow/scripts/generate_tfrecord.py\", line 61, in <module>\n",
      "    label_map = label_map_util.load_labelmap(args.labels_path)\n",
      "  File \"D:\\anaconda3\\lib\\site-packages\\object_detection\\utils\\label_map_util.py\", line 132, in load_labelmap\n",
      "    with tf.gfile.GFile(path, 'r') as fid:\n",
      "AttributeError: module 'tensorflow' has no attribute 'gfile'\n"
     ]
    }
   ],
   "source": [
    "!python {SCRIPTS_PATH + '/generate_tfrecord.py'} -x {IMAGE_PATH + '/train'} -l {ANNOTATION_PATH + '/label_map.pbtxt'} -o {ANNOTATION_PATH + '/train.record'}\n",
    "!python {SCRIPTS_PATH + '/generate_tfrecord.py'} -x{IMAGE_PATH + '/test'} -l {ANNOTATION_PATH + '/label_map.pbtxt'} -o {ANNOTATION_PATH + '/test.record'}"
   ]
  },
  {
   "cell_type": "markdown",
   "metadata": {},
   "source": [
    "# 3. Download TF Models Pretrained Models from Tensorflow Model Zoo"
   ]
  },
  {
   "cell_type": "code",
   "execution_count": null,
   "metadata": {},
   "outputs": [],
   "source": [
    "!cd Tensorflow && git clone https://github.com/tensorflow/models"
   ]
  },
  {
   "cell_type": "code",
   "execution_count": null,
   "metadata": {},
   "outputs": [],
   "source": [
    "#wget.download('http://download.tensorflow.org/models/object_detection/tf2/20200711/ssd_mobilenet_v2_fpnlite_320x320_coco17_tpu-8.tar.gz')\n",
    "#!mv ssd_mobilenet_v2_fpnlite_320x320_coco17_tpu-8.tar.gz {PRETRAINED_MODEL_PATH}\n",
    "#!cd {PRETRAINED_MODEL_PATH} && tar -zxvf ssd_mobilenet_v2_fpnlite_320x320_coco17_tpu-8.tar.gz"
   ]
  },
  {
   "cell_type": "markdown",
   "metadata": {},
   "source": [
    "# 4. Copy Model Config to Training Folder"
   ]
  },
  {
   "cell_type": "code",
   "execution_count": null,
   "metadata": {},
   "outputs": [],
   "source": [
    "CUSTOM_MODEL_NAME = 'my_ssd_mobnet' "
   ]
  },
  {
   "cell_type": "code",
   "execution_count": null,
   "metadata": {},
   "outputs": [],
   "source": [
    "!mkdir {'Tensorflow\\workspace\\models\\\\'+CUSTOM_MODEL_NAME}\n",
    "!cp {PRETRAINED_MODEL_PATH+'/ssd_mobilenet_v2_fpnlite_320x320_coco17_tpu-8/pipeline.config'} {MODEL_PATH+'/'+CUSTOM_MODEL_NAME}"
   ]
  },
  {
   "cell_type": "markdown",
   "metadata": {},
   "source": [
    "# 5. Update Config For Transfer Learning"
   ]
  },
  {
   "cell_type": "code",
   "execution_count": null,
   "metadata": {},
   "outputs": [],
   "source": [
    "import tensorflow as tf\n",
    "from object_detection.utils import config_util\n",
    "from object_detection.protos import pipeline_pb2\n",
    "from google.protobuf import text_format"
   ]
  },
  {
   "cell_type": "code",
   "execution_count": null,
   "metadata": {},
   "outputs": [],
   "source": [
    "CONFIG_PATH = MODEL_PATH+'/'+CUSTOM_MODEL_NAME+'/pipeline.config'"
   ]
  },
  {
   "cell_type": "code",
   "execution_count": null,
   "metadata": {},
   "outputs": [],
   "source": [
    "config = config_util.get_configs_from_pipeline_file(CONFIG_PATH)"
   ]
  },
  {
   "cell_type": "code",
   "execution_count": null,
   "metadata": {},
   "outputs": [],
   "source": [
    "config"
   ]
  },
  {
   "cell_type": "code",
   "execution_count": null,
   "metadata": {},
   "outputs": [],
   "source": [
    "pipeline_config = pipeline_pb2.TrainEvalPipelineConfig()\n",
    "with tf.io.gfile.GFile(CONFIG_PATH, \"r\") as f:                                                                                                                                                                                                                     \n",
    "    proto_str = f.read()                                                                                                                                                                                                                                          \n",
    "    text_format.Merge(proto_str, pipeline_config)  "
   ]
  },
  {
   "cell_type": "code",
   "execution_count": null,
   "metadata": {},
   "outputs": [],
   "source": [
    "pipeline_config.model.ssd.num_classes = 2\n",
    "pipeline_config.train_config.batch_size = 4\n",
    "pipeline_config.train_config.fine_tune_checkpoint = PRETRAINED_MODEL_PATH+'/ssd_mobilenet_v2_fpnlite_320x320_coco17_tpu-8/checkpoint/ckpt-0'\n",
    "pipeline_config.train_config.fine_tune_checkpoint_type = \"detection\"\n",
    "pipeline_config.train_input_reader.label_map_path= ANNOTATION_PATH + '/label_map.pbtxt'\n",
    "pipeline_config.train_input_reader.tf_record_input_reader.input_path[:] = [ANNOTATION_PATH + '/train.record']\n",
    "pipeline_config.eval_input_reader[0].label_map_path = ANNOTATION_PATH + '/label_map.pbtxt'\n",
    "pipeline_config.eval_input_reader[0].tf_record_input_reader.input_path[:] = [ANNOTATION_PATH + '/test.record']"
   ]
  },
  {
   "cell_type": "code",
   "execution_count": null,
   "metadata": {},
   "outputs": [],
   "source": [
    "config_text = text_format.MessageToString(pipeline_config)                                                                                                                                                                                                        \n",
    "with tf.io.gfile.GFile(CONFIG_PATH, \"wb\") as f:                                                                                                                                                                                                                     \n",
    "    f.write(config_text)   "
   ]
  },
  {
   "cell_type": "markdown",
   "metadata": {},
   "source": [
    "# 6. Train the model"
   ]
  },
  {
   "cell_type": "code",
   "execution_count": null,
   "metadata": {},
   "outputs": [],
   "source": [
    "print(\"\"\"python {}/research/object_detection/model_main_tf2.py --model_dir={}/{} --pipeline_config_path={}/{}/pipeline.config --num_train_steps=5000\"\"\".format(APIMODEL_PATH, MODEL_PATH,CUSTOM_MODEL_NAME,MODEL_PATH,CUSTOM_MODEL_NAME))"
   ]
  },
  {
   "cell_type": "markdown",
   "metadata": {},
   "source": [
    "# 7. Load Train Model From Checkpoint"
   ]
  },
  {
   "cell_type": "code",
   "execution_count": null,
   "metadata": {},
   "outputs": [],
   "source": [
    "import os\n",
    "from object_detection.utils import label_map_util\n",
    "from object_detection.utils import visualization_utils as viz_utils\n",
    "from object_detection.builders import model_builder"
   ]
  },
  {
   "cell_type": "code",
   "execution_count": null,
   "metadata": {},
   "outputs": [],
   "source": [
    "# Load pipeline config and build a detection model\n",
    "configs = config_util.get_configs_from_pipeline_file(CONFIG_PATH)\n",
    "detection_model = model_builder.build(model_config=configs['model'], is_training=False)\n",
    "\n",
    "# Restore checkpoint\n",
    "ckpt = tf.compat.v2.train.Checkpoint(model=detection_model)\n",
    "ckpt.restore(os.path.join(CHECKPOINT_PATH, 'ckpt-6')).expect_partial()\n",
    "\n",
    "@tf.function\n",
    "def detect_fn(image):\n",
    "    image, shapes = detection_model.preprocess(image)\n",
    "    prediction_dict = detection_model.predict(image, shapes)\n",
    "    detections = detection_model.postprocess(prediction_dict, shapes)\n",
    "    return detections"
   ]
  },
  {
   "cell_type": "markdown",
   "metadata": {},
   "source": [
    "# 8. Detect in Real-Time"
   ]
  },
  {
   "cell_type": "code",
   "execution_count": null,
   "metadata": {},
   "outputs": [],
   "source": [
    "import cv2 \n",
    "import numpy as np"
   ]
  },
  {
   "cell_type": "code",
   "execution_count": null,
   "metadata": {},
   "outputs": [],
   "source": [
    "category_index = label_map_util.create_category_index_from_labelmap(ANNOTATION_PATH+'/label_map.pbtxt')"
   ]
  },
  {
   "cell_type": "code",
   "execution_count": null,
   "metadata": {},
   "outputs": [],
   "source": [
    "cap.release()"
   ]
  },
  {
   "cell_type": "code",
   "execution_count": null,
   "metadata": {},
   "outputs": [],
   "source": [
    "# Setup capture\n",
    "cap = cv2.VideoCapture(0)\n",
    "width = int(cap.get(cv2.CAP_PROP_FRAME_WIDTH))\n",
    "height = int(cap.get(cv2.CAP_PROP_FRAME_HEIGHT))"
   ]
  },
  {
   "cell_type": "code",
   "execution_count": null,
   "metadata": {},
   "outputs": [],
   "source": [
    "while True: \n",
    "    ret, frame = cap.read()\n",
    "    image_np = np.array(frame)\n",
    "    \n",
    "    input_tensor = tf.convert_to_tensor(np.expand_dims(image_np, 0), dtype=tf.float32)\n",
    "    detections = detect_fn(input_tensor)\n",
    "    \n",
    "    num_detections = int(detections.pop('num_detections'))\n",
    "    detections = {key: value[0, :num_detections].numpy()\n",
    "                  for key, value in detections.items()}\n",
    "    detections['num_detections'] = num_detections\n",
    "\n",
    "    # detection_classes should be ints.\n",
    "    detections['detection_classes'] = detections['detection_classes'].astype(np.int64)\n",
    "\n",
    "    label_id_offset = 1\n",
    "    image_np_with_detections = image_np.copy()\n",
    "\n",
    "    viz_utils.visualize_boxes_and_labels_on_image_array(\n",
    "                image_np_with_detections,\n",
    "                detections['detection_boxes'],\n",
    "                detections['detection_classes']+label_id_offset,\n",
    "                detections['detection_scores'],\n",
    "                category_index,\n",
    "                use_normalized_coordinates=True,\n",
    "                max_boxes_to_draw=5,\n",
    "                min_score_thresh=.5,\n",
    "                agnostic_mode=False)\n",
    "\n",
    "    cv2.imshow('object detection',  cv2.resize(image_np_with_detections, (800, 600)))\n",
    "    \n",
    "    if cv2.waitKey(1) & 0xFF == ord('q'):\n",
    "        cap.release()\n",
    "        break"
   ]
  },
  {
   "cell_type": "code",
   "execution_count": null,
   "metadata": {},
   "outputs": [],
   "source": [
    "detections = detect_fn(input_tensor)"
   ]
  },
  {
   "cell_type": "code",
   "execution_count": null,
   "metadata": {},
   "outputs": [],
   "source": [
    "from matplotlib import pyplot as plt"
   ]
  },
  {
   "cell_type": "code",
   "execution_count": null,
   "metadata": {},
   "outputs": [],
   "source": []
  }
 ],
 "metadata": {
  "kernelspec": {
   "display_name": "Python 3",
   "language": "python",
   "name": "python3"
  },
  "language_info": {
   "codemirror_mode": {
    "name": "ipython",
    "version": 3
   },
   "file_extension": ".py",
   "mimetype": "text/x-python",
   "name": "python",
   "nbconvert_exporter": "python",
   "pygments_lexer": "ipython3",
   "version": "3.8.5"
  }
 },
 "nbformat": 4,
 "nbformat_minor": 2
}
